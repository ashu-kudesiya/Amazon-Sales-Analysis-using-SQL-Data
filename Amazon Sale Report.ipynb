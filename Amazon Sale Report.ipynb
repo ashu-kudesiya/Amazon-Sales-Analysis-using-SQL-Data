{
 "cells": [
  {
   "cell_type": "markdown",
   "id": "ccbad4cc",
   "metadata": {},
   "source": [
    "---\n",
    "# **AMAZON   Sales   Analysis**\n",
    "---"
   ]
  },
  {
   "cell_type": "code",
   "execution_count": null,
   "id": "4f32f855",
   "metadata": {},
   "outputs": [],
   "source": []
  },
  {
   "cell_type": "markdown",
   "id": "80dcd84e",
   "metadata": {},
   "source": [
    "---\n",
    "## Download Required Libraries\n",
    "---"
   ]
  },
  {
   "cell_type": "code",
   "execution_count": null,
   "id": "92b03c2a",
   "metadata": {},
   "outputs": [],
   "source": [
    "\n",
    "pip install numpy pandas matplotlib seaborn plotly mysql-connector-python\n"
   ]
  },
  {
   "cell_type": "markdown",
   "id": "4026724a",
   "metadata": {},
   "source": [
    "---\n",
    "## Importing Libraries\n",
    "---"
   ]
  },
  {
   "cell_type": "code",
   "execution_count": null,
   "id": "76fc6668",
   "metadata": {},
   "outputs": [],
   "source": [
    "\n",
    "import mysql.connector\n",
    "import numpy as np\n",
    "import pandas as pd\n",
    "import matplotlib.pyplot as plt \n",
    "import matplotlib.dates as mdates\n",
    "%matplotlib inline\n",
    "import seaborn as sns\n",
    "import plotly.express as px\n"
   ]
  },
  {
   "cell_type": "markdown",
   "id": "692677f3",
   "metadata": {},
   "source": [
    "---\n",
    "## Reading the SQL File\n",
    "---"
   ]
  },
  {
   "cell_type": "code",
   "execution_count": null,
   "id": "1cd75278",
   "metadata": {},
   "outputs": [],
   "source": [
    "\n",
    "connection = mysql.connector.connect(\n",
    "    user='root',\n",
    "    password='Ashu',\n",
    "    host='localhost',\n",
    "    database='amazon_sales_analysis'\n",
    ")\n"
   ]
  },
  {
   "cell_type": "code",
   "execution_count": null,
   "id": "cd4bdd2d",
   "metadata": {},
   "outputs": [],
   "source": [
    "\n",
    "cursor = connection.cursor()\n"
   ]
  },
  {
   "cell_type": "code",
   "execution_count": null,
   "id": "3fefc873",
   "metadata": {},
   "outputs": [],
   "source": [
    "\n",
    "cursor.execute('select * from `sales_data`')\n"
   ]
  },
  {
   "cell_type": "code",
   "execution_count": null,
   "id": "fcd7cfd0",
   "metadata": {},
   "outputs": [],
   "source": [
    "\n",
    "df = pd.DataFrame(cursor.fetchall(),columns=[desc[0] for desc in cursor.description])\n"
   ]
  },
  {
   "cell_type": "markdown",
   "id": "20213580",
   "metadata": {},
   "source": [
    "## Overview of a Data\n"
   ]
  },
  {
   "cell_type": "code",
   "execution_count": null,
   "id": "9990034d",
   "metadata": {},
   "outputs": [],
   "source": [
    "\n",
    "print(\"\\n---------------------------------------------------------------------------------\")\n",
    "print(\"First 5 Rows:\")\n",
    "print(\"---------------------------------------------------------------------------------\\n\")\n",
    "df.head()\n"
   ]
  },
  {
   "cell_type": "code",
   "execution_count": null,
   "id": "1886c501",
   "metadata": {},
   "outputs": [],
   "source": [
    "\n",
    "print(\"\\n---------------------------------------------------------------------------------\")\n",
    "print(\"Last 5 Rows:\")\n",
    "print(\"---------------------------------------------------------------------------------\\n\")\n",
    "df.tail(5)\n"
   ]
  },
  {
   "cell_type": "code",
   "execution_count": null,
   "id": "37dac9fd",
   "metadata": {},
   "outputs": [],
   "source": [
    "\n",
    "print(\"\\nShape:\", df.shape)\n"
   ]
  },
  {
   "cell_type": "code",
   "execution_count": null,
   "id": "8a0eb704",
   "metadata": {},
   "outputs": [],
   "source": [
    "\n",
    "print(\"\\n---------------------------------------------------------------------------------\")\n",
    "print(\"Descriptive Statistics:\")\n",
    "print(\"---------------------------------------------------------------------------------\\n\")\n",
    "df.describe(include='all')    \n"
   ]
  },
  {
   "cell_type": "code",
   "execution_count": null,
   "id": "f9a3094c",
   "metadata": {},
   "outputs": [],
   "source": [
    "\n",
    "print(\"\\n---------------------------------------------------------------------------------\")\n",
    "print(\"Column Names:\")\n",
    "print(\"---------------------------------------------------------------------------------\\n\")\n",
    "df.columns\n"
   ]
  },
  {
   "cell_type": "code",
   "execution_count": null,
   "id": "d4f180a0",
   "metadata": {},
   "outputs": [],
   "source": [
    "\n",
    "print(\"\\n---------------------------------------------------------------------------------\")\n",
    "print(\"Info:\")\n",
    "print(\"---------------------------------------------------------------------------------\\n\")\n",
    "df.info()\n"
   ]
  },
  {
   "cell_type": "markdown",
   "id": "1d8a926c",
   "metadata": {},
   "source": [
    "---\n",
    "\n",
    "# Cleaning the Data\n",
    "\n",
    "---"
   ]
  },
  {
   "cell_type": "code",
   "execution_count": null,
   "id": "71f299ca",
   "metadata": {},
   "outputs": [],
   "source": [
    "\n",
    "# Checking NULL Values \n",
    "pd.isnull(df) \n"
   ]
  },
  {
   "cell_type": "code",
   "execution_count": null,
   "id": "d098690b",
   "metadata": {},
   "outputs": [],
   "source": [
    "\n",
    "print(\"Total Rows % Columns:\", df.shape)\n"
   ]
  },
  {
   "cell_type": "code",
   "execution_count": null,
   "id": "2c00bff4",
   "metadata": {},
   "outputs": [],
   "source": [
    "\n",
    "# Sum will give total values of null values\n",
    "pd.isnull(df).sum()\n"
   ]
  },
  {
   "cell_type": "code",
   "execution_count": null,
   "id": "7eb54c77",
   "metadata": {},
   "outputs": [],
   "source": [
    "\n",
    "# We will remove NULL Columns\n",
    "df.drop(['new', 'pending_status'], axis=1, inplace=True)\n"
   ]
  },
  {
   "cell_type": "markdown",
   "id": "167c1589",
   "metadata": {},
   "source": [
    "---\n",
    "\n",
    "**Note**: We removed New & Pendings Column beacuse it only contained Null values\n",
    "\n",
    "---"
   ]
  },
  {
   "cell_type": "code",
   "execution_count": null,
   "id": "d0f64a08",
   "metadata": {},
   "outputs": [],
   "source": [
    "\n",
    "print(\"\\n---------------------------------------------------------------------------------\")\n",
    "print(\"Column:\")\n",
    "print(\"---------------------------------------------------------------------------------\\n\")\n",
    "df.columns\n"
   ]
  },
  {
   "cell_type": "markdown",
   "id": "3e4dc6d3",
   "metadata": {},
   "source": [
    "---\n",
    "\n",
    "We can observe that we have successfully removed the NULL Columns (New & Pendings)\n",
    "\n",
    "---"
   ]
  },
  {
   "cell_type": "code",
   "execution_count": null,
   "id": "ae1874fc",
   "metadata": {},
   "outputs": [],
   "source": [
    "\n",
    "# Drop NULL Values\n",
    "df.dropna(inplace=True)\n"
   ]
  },
  {
   "cell_type": "code",
   "execution_count": null,
   "id": "27fbd293",
   "metadata": {},
   "outputs": [],
   "source": [
    "\n",
    "# Sum will give total values of null values\n",
    "pd.isnull(df).sum()\n"
   ]
  },
  {
   "cell_type": "markdown",
   "id": "59c458e3",
   "metadata": {},
   "source": [
    "---\n",
    "\n",
    "We can observe that we have successfully removed the NULL Values\n",
    "\n",
    "---"
   ]
  },
  {
   "cell_type": "code",
   "execution_count": null,
   "id": "88f01fb2",
   "metadata": {},
   "outputs": [],
   "source": [
    "\n",
    "print(\"\\n---------------------------------------------------------------------------------\")\n",
    "print(\"Total Rows & Columns: \")\n",
    "print(\"---------------------------------------------------------------------------------\")\n",
    "df.shape\n"
   ]
  },
  {
   "cell_type": "code",
   "execution_count": null,
   "id": "ba33e297",
   "metadata": {},
   "outputs": [],
   "source": [
    "\n",
    "# Changing Data Type\n",
    "df['ship_postal_code']=df['ship_postal_code'].astype('float')\n"
   ]
  },
  {
   "cell_type": "code",
   "execution_count": null,
   "id": "58da2741",
   "metadata": {},
   "outputs": [],
   "source": [
    "\n",
    "# Checking whether the data type change or not\n",
    "spc = df['ship_postal_code'].dtype\n",
    "print('\\nShip Postal Code:' ,spc)\n"
   ]
  },
  {
   "cell_type": "markdown",
   "id": "2a2aa4b9",
   "metadata": {},
   "source": [
    "---\n",
    "\n",
    "Here we can observe that Data Type of Ship-Postal-Code \n",
    "\n",
    "---\n"
   ]
  },
  {
   "cell_type": "code",
   "execution_count": null,
   "id": "c87d019e",
   "metadata": {},
   "outputs": [],
   "source": [
    "\n",
    "# Rename Columns\n",
    "df.rename(columns={'qty':'Quantity'},inplace= True)\n"
   ]
  },
  {
   "cell_type": "code",
   "execution_count": null,
   "id": "e1080d0f",
   "metadata": {},
   "outputs": [],
   "source": [
    "\n",
    "print(\"\\n---------------------------------------------------------------------------------\")\n",
    "print(\"Descriptive Statistics:\")\n",
    "print(\"---------------------------------------------------------------------------------\\n\")\n",
    "df.describe(include='all')\n"
   ]
  },
  {
   "cell_type": "code",
   "execution_count": null,
   "id": "132042c0",
   "metadata": {},
   "outputs": [],
   "source": [
    "\n",
    "# Describe() method return description of the data in the DataFrame (i.e count,mean,std,min..etc)\n",
    "df.describe()\n"
   ]
  },
  {
   "cell_type": "code",
   "execution_count": null,
   "id": "e43a92ad",
   "metadata": {},
   "outputs": [],
   "source": [
    "\n",
    "df.describe(include='object')\n"
   ]
  },
  {
   "cell_type": "code",
   "execution_count": null,
   "id": "afb25ed2",
   "metadata": {},
   "outputs": [],
   "source": [
    "\n",
    "# Use describe() for specific columns\n",
    "df[['Quantity','amount']].describe()\n"
   ]
  },
  {
   "cell_type": "code",
   "execution_count": null,
   "id": "fe5387ae",
   "metadata": {},
   "outputs": [],
   "source": [
    "\n",
    "print(\"\\n---------------------------------------------------------------------------------\")\n",
    "print(\"Duplicate rows:\")\n",
    "print(\"---------------------------------------------------------------------------------\\n\")\n",
    "df[df.duplicated()]\n"
   ]
  },
  {
   "cell_type": "code",
   "execution_count": null,
   "id": "26fdd5ff",
   "metadata": {},
   "outputs": [],
   "source": [
    "\n",
    "print(\"\\n---------------------------------------------------------------------------------\")\n",
    "duplicate_count = df.duplicated().sum()\n",
    "print(\"Number of duplicate rows:\", duplicate_count)\n",
    "print(\"---------------------------------------------------------------------------------\")\n"
   ]
  },
  {
   "cell_type": "code",
   "execution_count": null,
   "id": "f4f76a91",
   "metadata": {},
   "outputs": [],
   "source": [
    "\n",
    "df.drop_duplicates(inplace=True)\n"
   ]
  },
  {
   "cell_type": "code",
   "execution_count": null,
   "id": "0a1d6f4f",
   "metadata": {},
   "outputs": [],
   "source": [
    "\n",
    "print(df['fulfilment'].value_counts())\n"
   ]
  },
  {
   "cell_type": "code",
   "execution_count": null,
   "id": "521a9549",
   "metadata": {},
   "outputs": [],
   "source": [
    "\n",
    "print(\"\\n---------------------------------------------------------------------------------\")\n",
    "duplicate_count = df.duplicated().sum()\n",
    "print(\"Number of duplicate rows:\", duplicate_count)\n",
    "print(\"---------------------------------------------------------------------------------\")\n"
   ]
  },
  {
   "cell_type": "markdown",
   "id": "eaa2f080",
   "metadata": {},
   "source": [
    "---\n",
    "\n",
    "We have Successfully Removed the Duplicate Data\n",
    "\n",
    "---"
   ]
  },
  {
   "cell_type": "code",
   "execution_count": null,
   "id": "9a6753ff",
   "metadata": {},
   "outputs": [],
   "source": [
    "\n"
   ]
  },
  {
   "cell_type": "markdown",
   "id": "f30d6f84",
   "metadata": {},
   "source": [
    "---\n",
    "\n",
    "# Exploratory Data Analysis\n",
    "\n",
    "---"
   ]
  },
  {
   "cell_type": "code",
   "execution_count": null,
   "id": "0b095998",
   "metadata": {},
   "outputs": [],
   "source": []
  },
  {
   "cell_type": "markdown",
   "id": "2bf24e27",
   "metadata": {},
   "source": [
    "---\n",
    "\n",
    "### **Question 1:** What are the total sales (Amount) for each product category ?\n",
    "\n",
    "---"
   ]
  },
  {
   "cell_type": "code",
   "execution_count": null,
   "id": "a06eae83",
   "metadata": {},
   "outputs": [],
   "source": [
    "\n",
    "total_sales_by_category = df.groupby('category')['amount'].sum().sort_values()\n",
    "\n",
    "colors = plt.cm.tab10(np.linspace(0, 1, len(total_sales_by_category)))\n",
    "plt.figure(figsize=(15, 10))\n",
    "ax = total_sales_by_category.plot(kind='bar', color=colors, edgecolor='black')\n",
    "plt.title('\\nTotal Sales by Product Category\\n', fontsize=20,fontweight='bold')\n",
    "plt.xlabel('\\nProduct Category\\n', fontsize=18,fontweight='bold')\n",
    "plt.ylabel('\\nTotal Sales (Amount in Million)\\n', fontsize=18,fontweight='bold')\n",
    "\n",
    "for p in ax.patches:\n",
    "    ax.annotate(f'{int(p.get_height()):,}',\n",
    "    (p.get_x() + p.get_width() / 2., p.get_height()),\n",
    "    ha = 'center' , va = 'bottom' , fontsize = 12,fontweight='bold')\n",
    "\n",
    "\n",
    "plt.xticks(rotation=0, ha='right', fontsize=10)\n",
    "plt.yticks([0, 2e6, 4e6 , 6e6, 8e6, 10e6, 12e6], ['0','2M','4M','6M','8M','10M','12M'])\n",
    "plt.grid(axis='y', linestyle='--', alpha=0.3)\n",
    "plt.tight_layout()\n",
    "plt.show()"
   ]
  },
  {
   "cell_type": "markdown",
   "id": "e12fdee5",
   "metadata": {},
   "source": [
    "---\n",
    "\n",
    "### **Conclusion:** T-shirts generated the most sales, indicating they are the most popular category and contribute significantly to overall revenue. This suggests focusing on T-shirts for promotions and stock optimization.\n",
    "### **Recommendation:** Focus on improving sales performance in underperforming regions and product categories to increase overall profitability.\n",
    "\n",
    "---"
   ]
  },
  {
   "cell_type": "code",
   "execution_count": null,
   "id": "48c9b650",
   "metadata": {},
   "outputs": [],
   "source": []
  },
  {
   "cell_type": "markdown",
   "id": "d8c62111",
   "metadata": {},
   "source": [
    "---\n",
    "\n",
    "### **Question 2:** What is the percentage distribution of sales channels ?\n",
    "\n",
    "---"
   ]
  },
  {
   "cell_type": "code",
   "execution_count": null,
   "id": "5370ba84",
   "metadata": {},
   "outputs": [],
   "source": [
    "\n",
    "category_distribution = df['category'].value_counts()\n",
    "\n",
    "plt.figure(figsize=(20, 10))\n",
    "ax = category_distribution.plot(kind='pie', startangle=90, colors=['skyblue', 'orange', 'lightgreen', 'lightcoral', 'yellow', 'purple', 'pink'], autopct=None, labels=None)\n",
    "plt.legend(category_distribution.index, title='Category', loc='lower left', fontsize=9)\n",
    "percentage_table = category_distribution / category_distribution.sum() * 100\n",
    "table_data = list(zip(category_distribution.index, category_distribution.values, percentage_table.round(2)))\n",
    "\n",
    "plt.table(cellText=table_data, colLabels=['\\n---- Category ----\\n', '\\n---- Sales ----\\n', '\\n---- Percentage (%) ----\\n'], loc='bottom', cellLoc='center', colLoc='center', bbox=[0, -0.3, 1, 0.3])\n",
    "plt.title('\\nSales Distribution by Product Category',fontsize = 20,fontweight='bold')\n",
    "plt.ylabel('')  \n",
    "plt.tight_layout()\n",
    "plt.show()\n"
   ]
  },
  {
   "cell_type": "markdown",
   "id": "e120c1a4",
   "metadata": {},
   "source": [
    "---\n",
    "\n",
    "### **Conclusion:** The pie chart reveals that T-shirt category generates the highest sales, significantly outpacing other product categories. \n",
    "### **Recommendation:** Consider expanding the T-shirt product line and marketing efforts to capitalize on its strong sales performance.\n",
    "\n",
    "---"
   ]
  },
  {
   "cell_type": "code",
   "execution_count": null,
   "id": "3a26d658",
   "metadata": {},
   "outputs": [],
   "source": []
  },
  {
   "cell_type": "markdown",
   "id": "d6292483",
   "metadata": {},
   "source": [
    "---\n",
    "\n",
    "### **Question 3:** What is the trend of total orders (Quantity) over time ?\n",
    "\n",
    "\n",
    "---"
   ]
  },
  {
   "cell_type": "code",
   "execution_count": null,
   "id": "d2dc3021",
   "metadata": {},
   "outputs": [],
   "source": [
    "\n",
    "df['Date'] = pd.to_datetime(df['date'], errors='coerce', format='%m-%d-%y')\n",
    "orders_trend = df.groupby('Date')['Quantity'].sum()\n",
    "\n",
    "plt.figure(figsize=(27, 8))\n",
    "plt.plot(orders_trend.index, orders_trend.values, marker='o', color='red')\n",
    "plt.title('\\nTrend of Total Orders Over Time\\n', fontsize=20, fontweight='bold')\n",
    "plt.xlabel('\\nDate\\n', fontsize=18, fontweight='bold')\n",
    "plt.ylabel('\\nTotal Orders (Quantity)\\n', fontsize=18, fontweight='bold')\n",
    "plt.grid(alpha=0.3)\n",
    "plt.gca().xaxis.set_major_formatter(mdates.DateFormatter('%d-%m-%Y'))\n",
    "plt.gca().xaxis.set_major_locator(mdates.DayLocator(interval=5))\n",
    "plt.tight_layout()\n",
    "plt.show()\n"
   ]
  },
  {
   "cell_type": "markdown",
   "id": "7a106404",
   "metadata": {},
   "source": [
    "---\n",
    "\n",
    "### **Conclusion:** The trend of total orders shows periodic spikes and declines, with varying levels of activity over time.\n",
    "### **Recommendation:** Implement targeted promotions and improve inventory management to stabilize order trends and reduce fluctuations.\n",
    "\n",
    "---"
   ]
  },
  {
   "cell_type": "code",
   "execution_count": null,
   "id": "8b54829a",
   "metadata": {},
   "outputs": [],
   "source": []
  },
  {
   "cell_type": "markdown",
   "id": "c78309d3",
   "metadata": {},
   "source": [
    "---\n",
    "\n",
    "### **Question 4:** What is the distribution of sizes across different product categories?\n",
    "\n",
    "---"
   ]
  },
  {
   "cell_type": "code",
   "execution_count": null,
   "id": "7c759db1",
   "metadata": {},
   "outputs": [],
   "source": [
    "\n",
    "x_data = df['category']  \n",
    "y_data = df['size'] \n",
    "\n",
    "unique_sizes = y_data.unique()\n",
    "colors = {size: plt.cm.tab10(i % 10) for i, size in enumerate(unique_sizes)}\n",
    "dot_colors = y_data.map(colors)\n",
    "\n",
    "plt.figure(figsize=(8, 8))\n",
    "plt.scatter(x_data, y_data, c=dot_colors)\n",
    "plt.xlabel('\\nCategory\\n', fontsize=20,fontweight='bold')  \n",
    "plt.ylabel('\\nSize\\n', fontsize=18, fontweight='bold')  \n",
    "plt.title('\\nScatter Plot\\n', fontsize=18, fontweight='bold') \n",
    "plt.show()\n"
   ]
  },
  {
   "cell_type": "code",
   "execution_count": null,
   "id": "977c71e6",
   "metadata": {},
   "outputs": [],
   "source": [
    "\n",
    "quantity_table = df.pivot_table(index='category', columns='size', values='Quantity', aggfunc='sum', fill_value=0)\n",
    "\n",
    "print(\"\\n---------------------------------------------------------------------------------\")\n",
    "print(\"Table of Quantity by Category and Size:\")\n",
    "print(\"---------------------------------------------------------------------------------\\n\")\n",
    "quantity_table\n"
   ]
  },
  {
   "cell_type": "markdown",
   "id": "626b4824",
   "metadata": {},
   "source": [
    "---\n",
    "\n",
    "### **Conclusion:**    Sizes are distributed across categories with some categories offering a broader range (e.g., T-shirts), while others like \"Wallet\" and \"Perfume\" primarily have a single size (\"Free\").\n",
    "### **Recommendation:** Introduce more size variations in categories with limited options to enhance product appeal.\n",
    "\n",
    "---"
   ]
  },
  {
   "cell_type": "code",
   "execution_count": null,
   "id": "1e01c386",
   "metadata": {},
   "outputs": [],
   "source": []
  },
  {
   "cell_type": "markdown",
   "id": "7dcfde98",
   "metadata": {},
   "source": [
    "---\n",
    "\n",
    "### **Question 5:** How is the sales amount distributed across all orders?\n",
    "---"
   ]
  },
  {
   "cell_type": "code",
   "execution_count": null,
   "id": "7be04161",
   "metadata": {},
   "outputs": [],
   "source": [
    "\n",
    "plt.figure(figsize=(20,10))\n",
    "n, bins, patches = plt.hist(df['amount'], bins=30, color='purple', edgecolor='black', alpha=1)\n",
    "\n",
    "for i in range(len(patches)):\n",
    "    height = patches[i].get_height()\n",
    "    plt.text(patches[i].get_x() + patches[i].get_width()/ 2, height, str(int(height)), ha ='center', va ='bottom', fontsize=12, fontweight='bold')\n",
    "\n",
    "plt.title('\\nDistribution of Sales Amount\\n', fontsize=20,fontweight='bold')\n",
    "plt.xlabel('\\nSales Amount\\n', fontsize=18, fontweight='bold')\n",
    "plt.ylabel('\\nFrequency\\n', fontsize=18, fontweight='bold')\n",
    "plt.grid(axis='y', alpha=0.5)\n",
    "plt.tight_layout()\n",
    "plt.show()\n",
    "\n"
   ]
  },
  {
   "cell_type": "markdown",
   "id": "590288ac",
   "metadata": {},
   "source": [
    "---\n",
    "\n",
    "### **Conclusion:** The majority of sales amounts fall within the range of 0 to 1500, with a sharp decline in frequency beyond this range.\n",
    "### **Recommendation:** Target efforts to increase sales in higher value ranges to reduce the decline in sales beyond 1500.\n",
    "\n",
    "---"
   ]
  },
  {
   "cell_type": "code",
   "execution_count": null,
   "id": "2e2d77c8",
   "metadata": {},
   "outputs": [],
   "source": []
  },
  {
   "cell_type": "markdown",
   "id": "e3058356",
   "metadata": {},
   "source": [
    "---\n",
    "\n",
    "### **Question 6:** What is the distribution of total sales across different order statuses and product categories?\n",
    "\n",
    "---"
   ]
  },
  {
   "cell_type": "code",
   "execution_count": null,
   "id": "f09ea322",
   "metadata": {},
   "outputs": [],
   "source": [
    "\n",
    "heatmap_data = df.pivot_table(index='status', columns='category', values='amount', aggfunc='sum', fill_value=0)\n",
    "plt.figure(figsize=(20, 10))\n",
    "sns.heatmap(heatmap_data, annot=True, fmt=\".0f\", cmap='coolwarm', cbar_kws={'label': '\\nTotal Sales Amount\\n'})\n",
    "plt.title('\\nHeatmap of Order Status vs Product Category\\n', fontsize=20, fontweight='bold')\n",
    "plt.xlabel('\\nProduct Category\\n', fontsize=18, fontweight='bold')\n",
    "plt.ylabel('\\nOrder Status\\n', fontsize=18, fontweight='bold')\n",
    "\n",
    "cbar = plt.gca().collections[0].colorbar\n",
    "cbar_ticks = cbar.get_ticks() \n",
    "cbar_ticks = [tick for tick in cbar_ticks if tick <= 8e6]\n",
    "cbar.set_ticks(cbar_ticks)\n",
    "cbar.set_ticklabels([f'{int(x//1e6)}M' for x in cbar_ticks])\n",
    "plt.tight_layout()\n",
    "plt.show()\n"
   ]
  },
  {
   "cell_type": "markdown",
   "id": "cf9d90ef",
   "metadata": {},
   "source": [
    "---\n",
    "\n",
    "### **Conclusion:** The heatmap reveals that the majority of total sales are concentrated in \"Shipped - Delivered to Buyer\" status, with T-shirts dominating across product categories.\n",
    "### **Recommendation:** Enhance shipping efficiency and explore opportunities to expand sales in all product categories.\n",
    "\n",
    "---"
   ]
  },
  {
   "cell_type": "code",
   "execution_count": null,
   "id": "95b29ece",
   "metadata": {},
   "outputs": [],
   "source": []
  },
  {
   "cell_type": "markdown",
   "id": "d6c5d159",
   "metadata": {},
   "source": [
    "---\n",
    "\n",
    "### **Question 7:** What is the cumulative sales trend over time?\n",
    "\n",
    "---"
   ]
  },
  {
   "cell_type": "code",
   "execution_count": null,
   "id": "8a2c33da",
   "metadata": {},
   "outputs": [],
   "source": [
    "\n",
    "cumulative_sales = df.groupby('Date')['amount'].sum().cumsum()\n",
    "plt.figure(figsize=(20, 10))\n",
    "plt.fill_between(cumulative_sales.index,cumulative_sales.values, color='lightgreen', alpha=1)\n",
    "plt.title('\\nCumulative Sales Trend Over Time\\n',fontsize=20, fontweight='bold')\n",
    "plt.xlabel('\\nDate\\n', fontsize=18, fontweight='bold')\n",
    "plt.ylabel('\\nCumulative Sales (Amount)\\n', fontsize=18, fontweight='bold')\n",
    "plt.grid(alpha=1)\n",
    "plt.xticks(rotation=0)\n",
    "plt.gca().xaxis.set_major_formatter(mdates.DateFormatter('%d-%m-%Y'))\n",
    "plt.xticks(rotation=0)\n",
    "\n",
    "y_ticks = range(0, int(cumulative_sales.max()) + 2000000, 2000000)\n",
    "y_labels = [f'{int(y/1e6)}m' for y in y_ticks]\n",
    "plt.yticks(ticks=y_ticks, labels=y_labels)\n",
    "plt.tight_layout()\n",
    "plt.show()\n"
   ]
  },
  {
   "cell_type": "markdown",
   "id": "7b63369f",
   "metadata": {},
   "source": [
    "---\n",
    "\n",
    "### **Conclusion** The cumulative sales trend demonstrates a steady upward trajectory, with sharp increases in sales during specific periods, highlighting potential seasonal or promotional impacts.\n",
    "### **Recommendation:** Identify and capitalize on seasonal and promotional peaks to sustain growth in sales throughout the year.\n",
    "\n",
    "---"
   ]
  },
  {
   "cell_type": "code",
   "execution_count": null,
   "id": "954a8f55",
   "metadata": {},
   "outputs": [],
   "source": []
  },
  {
   "cell_type": "markdown",
   "id": "1a726c16",
   "metadata": {},
   "source": [
    "---\n",
    "\n",
    "### **Question 8:** What are the top 3 states with the highest total revenue, broken down by category?\n",
    "\n",
    "---"
   ]
  },
  {
   "cell_type": "code",
   "execution_count": null,
   "id": "ab53530c",
   "metadata": {},
   "outputs": [],
   "source": [
    "\n",
    "state_total_sales = df.groupby('ship_state')['amount'].sum()\n",
    "top_3_states = state_total_sales.nlargest(3).index\n",
    "top_3_state_data = df[df['ship_state'].isin(top_3_states)]\n",
    "state_category_sales = top_3_state_data.groupby(['ship_state', 'category'])['amount'].sum().unstack()\n",
    "ax = state_category_sales.plot(kind='bar', figsize=(30, 10), width=0.8, edgecolor='black')\n",
    "\n",
    "plt.title('\\nTop 3 States by Revenue and Category\\n', fontsize=20, fontweight='bold')\n",
    "plt.xlabel('\\nShipping State\\n', fontsize=18, fontweight='bold')\n",
    "plt.ylabel('\\nTotal Sales (Amount)\\n', fontsize=18, fontweight='bold')\n",
    "plt.xticks(rotation=0)\n",
    "plt.grid(axis='y', alpha=0)\n",
    "\n",
    "ax.get_yaxis().set_major_formatter(plt.FuncFormatter(lambda x, loc: f'{x/1000:.1f}K'))\n",
    "for p in ax.patches:\n",
    "    ax.annotate(f'{p.get_height():,.0f}',\n",
    "                (p.get_x() + p.get_width() / 2., p.get_height()), \n",
    "                xytext=(0, 5),\n",
    "                textcoords='offset points', \n",
    "                ha='center', va='bottom', fontsize=14)\n",
    "plt.legend(fontsize=18)\n",
    "plt.tight_layout()\n",
    "plt.show()\n"
   ]
  },
  {
   "cell_type": "markdown",
   "id": "ae073799",
   "metadata": {},
   "source": [
    "---\n",
    "\n",
    "### **Conclusion** T-shirts generate the highest revenue across Karnataka, Maharashtra, and Uttar Pradesh, followed by Shirts, which also contribute significantly to the sales in these states.\n",
    "### **Recommendation:** Focus on promoting T-shirts and Shirts in Karnataka, Maharashtra, and Uttar Pradesh to further enhance revenue in these high-performing states.\n",
    "\n",
    "---"
   ]
  },
  {
   "cell_type": "code",
   "execution_count": null,
   "id": "45e1a723",
   "metadata": {},
   "outputs": [],
   "source": []
  },
  {
   "cell_type": "markdown",
   "id": "e35d15f8",
   "metadata": {},
   "source": [
    "---\n",
    "\n",
    "### **Question 9:** How does the total sales (Amount) compare over time between two product categories (e.g., \"Shirt\" and \"T-shirt\")?\n",
    "\n",
    "---"
   ]
  },
  {
   "cell_type": "code",
   "execution_count": null,
   "id": "c603e6f7",
   "metadata": {},
   "outputs": [],
   "source": [
    "\n",
    "filtered_data = df[df['category'].isin(['Shirt', 'T-shirt'])]\n",
    "category_sales_over_time = filtered_data.groupby(['Date', 'category'])['amount'].sum().unstack()\n",
    "plt.figure(figsize=(27, 8))\n",
    "\n",
    "plt.plot(category_sales_over_time.index,category_sales_over_time['Shirt'], marker='o', color='green', label='Shirt')\n",
    "plt.plot(category_sales_over_time.index,category_sales_over_time['T-shirt'], marker='o', color='blue', label='T-shirt')\n",
    "\n",
    "plt.title('\\nTotal Sales Comparison Over Time: Shirt vs T-shirt\\n',fontsize=20, fontweight='bold')\n",
    "plt.xlabel('\\nDate\\n', fontsize=18, fontweight='bold')\n",
    "plt.ylabel('\\nTotal Sales (Amount)\\n', fontsize=18, fontweight='bold')\n",
    "plt.grid(alpha=0.3)\n",
    "plt.xticks(rotation=0)\n",
    "plt.tight_layout()\n",
    "plt.gca().xaxis.set_major_formatter(mdates.DateFormatter('%d-%m-%Y'))\n",
    "plt.legend(fontsize=20)\n",
    "plt.show()\n"
   ]
  },
  {
   "cell_type": "markdown",
   "id": "2d4f333a",
   "metadata": {},
   "source": [
    "---\n",
    "\n",
    "### **Conclusion** T-shirt sales consistently outperform shirt sales, indicating a higher demand and greater market potential for T-shirts.\n",
    "### **Recommendation:** Focus on enhancing T-shirt offerings and promotions to further capitalize on its strong sales performance.\n",
    "\n",
    "---"
   ]
  },
  {
   "cell_type": "code",
   "execution_count": null,
   "id": "a0c85f38",
   "metadata": {},
   "outputs": [],
   "source": []
  },
  {
   "cell_type": "markdown",
   "id": "58e5093f",
   "metadata": {},
   "source": [
    "---\n",
    "\n",
    "### **Question 10:** What is the distribution of total sales across different order statuses and product categories?\n",
    "\n",
    "---"
   ]
  },
  {
   "cell_type": "code",
   "execution_count": null,
   "id": "89fb5508",
   "metadata": {},
   "outputs": [],
   "source": [
    "\n",
    "state_sales = df.groupby('ship_state')['amount'].sum().reset_index()\n",
    "state_sales.columns = ['State', 'Total Sales']\n",
    "\n",
    "state_sales['State'] = state_sales['State'].str.upper()\n",
    "\n",
    "state_coordinates = {\n",
    "    'ANDHRA PRADESH': [15.9129, 79.7400], 'ARUNACHAL PRADESH': [28.2180, 94.7278], 'ASSAM': [26.2006, 92.9376],\n",
    "    'BIHAR': [25.0961, 85.3131], 'CHHATTISGARH': [21.2787, 81.8661], 'DELHI': [28.7041, 77.1025],\n",
    "    'GOA': [15.2993, 74.1240], 'GUJARAT': [22.2587, 71.1924], 'HARYANA': [29.0588, 76.0856],\n",
    "    'HIMACHAL PRADESH': [31.1048, 77.1734], 'JHARKHAND': [23.6102, 85.2799], 'KARNATAKA': [15.3173, 75.7139],\n",
    "    'KERALA': [10.8505, 76.2711], 'MADHYA PRADESH': [22.9734, 78.6569], 'MAHARASHTRA': [19.7515, 75.7139],\n",
    "    'MANIPUR': [24.6637, 93.9063], 'MEGHALAYA': [25.4670, 91.3662], 'MIZORAM': [23.1645, 92.9376],\n",
    "    'NAGALAND': [26.1584, 94.5624], 'ODISHA': [20.9517, 85.0985], 'PUNJAB': [31.1471, 75.3412],\n",
    "    'RAJASTHAN': [27.0238, 74.2179], 'SIKKIM': [27.5330, 88.5122], 'TAMIL NADU': [11.1271, 78.6569],\n",
    "    'TELANGANA': [18.1124, 79.0193], 'TRIPURA': [23.9408, 91.9882], 'UTTAR PRADESH': [26.8467, 80.9462],\n",
    "    'UTTARAKHAND': [30.0668, 79.0193], 'WEST BENGAL': [22.9868, 87.8550]\n",
    "}\n",
    "\n",
    "state_sales['Latitude'] = state_sales['State'].map(lambda x: state_coordinates[x][0])\n",
    "state_sales['Longitude'] = state_sales['State'].map(lambda x: state_coordinates[x][1])\n",
    "\n",
    "fig = px.scatter_geo(\n",
    "    state_sales,\n",
    "    lat='Latitude',\n",
    "    lon='Longitude',\n",
    "    text='State',\n",
    "    size='Total Sales',\n",
    "    size_max=50,\n",
    "    color='Total Sales',\n",
    "    color_continuous_scale='RdYlGn',\n",
    "    scope='asia',\n",
    "    title='\\nTotal Sales by State (India)'\n",
    ")\n",
    "\n",
    "fig.update_layout(\n",
    "    title=dict(x=0.5, font=dict(size=32, weight='bold')),\n",
    "    geo=dict(\n",
    "        scope='asia',\n",
    "        showcountries=True,\n",
    "        countrycolor='black',  \n",
    "        showcoastlines=True,   \n",
    "        coastlinecolor='black', \n",
    "        showland=True,\n",
    "        landcolor='#A0C185',  \n",
    "        showocean=True,\n",
    "        oceancolor='#B0E0E6', \n",
    "        projection_type='mercator', \n",
    "        fitbounds=\"locations\", \n",
    "        resolution=50, \n",
    "    ),\n",
    "    width=1500, \n",
    "    height=1000,\n",
    "    font=dict(\n",
    "        family=\"Arial\", \n",
    "        size=12, \n",
    "        color=\"black\",\n",
    "        weight=\"bold\"\n",
    "    ),\n",
    ")\n"
   ]
  },
  {
   "cell_type": "code",
   "execution_count": null,
   "id": "6d656f34",
   "metadata": {},
   "outputs": [],
   "source": [
    "\n",
    "state_sales = df.groupby('ship_state')['amount'].sum()\n",
    "sorted_sales = state_sales.sort_values()\n",
    "colors = ['#FF5733', '#33FF57', '#3357FF', '#F1C40F', '#9B59B6', '#1ABC9C', '#E74C3C', '#3498DB']\n",
    "colors = colors * (len(sorted_sales) // len(colors) + 1) \n",
    "\n",
    "plt.figure(figsize=(30, 20))\n",
    "bars = plt.barh(sorted_sales.index, sorted_sales.values, color=colors[:len(sorted_sales)], edgecolor='black')\n",
    "plt.title('\\nTotal Sales by Shipping State\\n', fontsize=20, fontweight='bold')\n",
    "plt.xlabel('\\nTotal Sales (Amount)\\n', fontsize=18, fontweight='bold')\n",
    "plt.ylabel('\\nShipping State\\n', fontsize=18, fontweight='bold')\n",
    "plt.grid(axis='x', alpha=0)\n",
    "\n",
    "for index, value in enumerate(sorted_sales.values):\n",
    "    plt.text(value, index, f'{value:,.0f}', va='center', ha='left', fontsize=15, color='black')\n",
    "def format_sales_labels(value):\n",
    "    if value >= 1_000_000:\n",
    "        return f'{value/1_000_000:.0f} M'\n",
    "    elif value >= 1_000:\n",
    "        return f'{value/1_000:.0f} K'\n",
    "    else:\n",
    "        return f'{value}'\n",
    "\n",
    "plt.xticks([x for x in plt.gca().get_xticks()], [format_sales_labels(x) for x in plt.gca().get_xticks()])\n",
    "plt.tight_layout()\n",
    "plt.show()\n"
   ]
  },
  {
   "cell_type": "markdown",
   "id": "b827e5d7",
   "metadata": {},
   "source": [
    "---\n",
    "\n",
    "#### **Top 11 States**\n",
    "\n",
    "---"
   ]
  },
  {
   "cell_type": "code",
   "execution_count": null,
   "id": "1ec5ccc4",
   "metadata": {},
   "outputs": [],
   "source": [
    "\n",
    "state_sales = df.groupby('ship_state')['amount'].sum().reset_index()\n",
    "state_sales.columns = ['State', 'Total Sales']\n",
    "\n",
    "state_sales['State'] = state_sales['State'].str.upper()\n",
    "\n",
    "top_states = state_sales.nlargest(11, 'Total Sales')\n",
    "\n",
    "state_coordinates = {\n",
    "    'ANDHRA PRADESH': [15.9129, 79.7400], 'ARUNACHAL PRADESH': [28.2180, 94.7278], 'ASSAM': [26.2006, 92.9376],\n",
    "    'BIHAR': [25.0961, 85.3131], 'CHHATTISGARH': [21.2787, 81.8661], 'DELHI': [28.7041, 77.1025],\n",
    "    'GOA': [15.2993, 74.1240], 'GUJARAT': [22.2587, 71.1924], 'HARYANA': [29.0588, 76.0856],\n",
    "    'HIMACHAL PRADESH': [31.1048, 77.1734], 'JHARKHAND': [23.6102, 85.2799], 'KARNATAKA': [15.3173, 75.7139],\n",
    "    'KERALA': [10.8505, 76.2711], 'MADHYA PRADESH': [22.9734, 78.6569], 'MAHARASHTRA': [19.7515, 75.7139],\n",
    "    'MANIPUR': [24.6637, 93.9063], 'MEGHALAYA': [25.4670, 91.3662], 'MIZORAM': [23.1645, 92.9376],\n",
    "    'NAGALAND': [26.1584, 94.5624], 'ODISHA': [20.9517, 85.0985], 'PUNJAB': [31.1471, 75.3412],\n",
    "    'RAJASTHAN': [27.0238, 74.2179], 'SIKKIM': [27.5330, 88.5122], 'TAMIL NADU': [11.1271, 78.6569],\n",
    "    'TELANGANA': [18.1124, 79.0193], 'TRIPURA': [23.9408, 91.9882], 'UTTAR PRADESH': [26.8467, 80.9462],\n",
    "    'UTTARAKHAND': [30.0668, 79.0193], 'WEST BENGAL': [22.9868, 87.8550]\n",
    "}\n",
    "top_states['Latitude'] = top_states['State'].map(lambda x: state_coordinates[x][0])\n",
    "top_states['Longitude'] = top_states['State'].map(lambda x: state_coordinates[x][1])\n",
    "\n",
    "fig = px.scatter_geo(\n",
    "    top_states,\n",
    "    lat='Latitude',\n",
    "    lon='Longitude',\n",
    "    text='State',\n",
    "    size='Total Sales',\n",
    "    size_max=50,\n",
    "    color='Total Sales',\n",
    "    color_continuous_scale='RdYlGn',\n",
    "    scope='asia',\n",
    "    title='Top 11 States by Total Sales (India)'\n",
    ")\n",
    "\n",
    "fig.update_layout(\n",
    "    title=dict(x=0.5, font=dict(size=32, weight='bold')),\n",
    "    geo=dict(\n",
    "        scope='asia',\n",
    "        showcountries=True,\n",
    "        countrycolor='black', \n",
    "        showcoastlines=True, \n",
    "        coastlinecolor='black',\n",
    "        showland=True,\n",
    "        landcolor='#A0C185',  \n",
    "        showocean=True,\n",
    "        oceancolor='#B0E0E6', \n",
    "        projection_type='mercator', \n",
    "        fitbounds=\"locations\", \n",
    "        resolution=50, \n",
    "    ),\n",
    "    width=1500,  \n",
    "    height=1000,\n",
    "    font=dict(\n",
    "        family=\"Arial\", \n",
    "        size=12, \n",
    "        color=\"black\", \n",
    "        weight=\"bold\" \n",
    "    ),\n",
    ")\n",
    "\n",
    "fig.show()\n"
   ]
  },
  {
   "cell_type": "code",
   "execution_count": null,
   "id": "eb9320a5",
   "metadata": {},
   "outputs": [],
   "source": [
    "\n",
    "state_sales = df.groupby('ship_state')['amount'].sum()\n",
    "top_11_sales = state_sales.sort_values(ascending=False).head(11)\n",
    "colors = ['#FF5733', '#33FF57', '#3357FF', '#F1C40F', '#9B59B6', '#1ABC9C', '#E74C3C', '#3498DB', '#E67E22', '#2ECC71']\n",
    "colors = colors * (len(top_11_sales) // len(colors) + 1) \n",
    "\n",
    "plt.figure(figsize=(20, 8))\n",
    "bars = plt.bar(top_11_sales.index, top_11_sales.values, color=colors[:len(top_11_sales)], edgecolor='black')\n",
    "plt.title('\\nTop 11 Total Sales by Shipping State\\n',fontsize=20, fontweight='bold')\n",
    "plt.xlabel('\\nShipping State\\n',fontsize=18, fontweight='bold')\n",
    "plt.ylabel('\\nTotal Sales (Amount)\\n', fontsize=18, fontweight='bold')\n",
    "plt.xticks(rotation=0)\n",
    "plt.grid(axis='y', alpha=0)\n",
    "\n",
    "for index, value in enumerate(top_11_sales.values):\n",
    "    plt.text(index, value, f'{value:,.0f}', ha='center', va='bottom', fontsize=18, color='black')\n",
    "\n",
    "def format_sales_labels(value):\n",
    "    if value >= 1_000_000:\n",
    "        return f'{value/1_000_000:.1f}M'\n",
    "    elif value >= 1_000:\n",
    "        return f'{value/1_000:.0f}K'\n",
    "\n",
    "plt.ylim(0, top_11_sales.max() * 1.1)\n",
    "plt.yticks([y for y in plt.gca().get_yticks()], [format_sales_labels(y) for y in plt.gca().get_yticks()])\n",
    "plt.tight_layout()\n",
    "plt.show()\n"
   ]
  },
  {
   "cell_type": "markdown",
   "id": "e0e36c15",
   "metadata": {},
   "source": [
    "---\n",
    "\n",
    "### **Conclusion:** The chart highlights that Maharashtra leads in total sales among all states, followed by Karnataka and Uttar Pradesh, while Haryana records the lowest sales among the top 11 states.\n",
    "### **Recommendation:** Focus marketing and sales strategies in Haryana to improve its performance and explore opportunities to sustain growth in leading states like Maharashtra.\n",
    "\n",
    "---"
   ]
  },
  {
   "cell_type": "code",
   "execution_count": null,
   "id": "adcd5084",
   "metadata": {},
   "outputs": [],
   "source": []
  },
  {
   "cell_type": "markdown",
   "id": "ae892924",
   "metadata": {},
   "source": [
    "---\n",
    "\n",
    "# **Conclusion**\n",
    "### - The analysis shows key trends such as top-selling products, high-revenue categories, and peak sales periods.  \n",
    "### - Insights into customer preferences and operational performance were identified.  \n",
    "### - The report highlights Amazon's strengths and areas for improvement.  \n",
    "\n",
    "---"
   ]
  },
  {
   "cell_type": "code",
   "execution_count": null,
   "id": "de7b65b1",
   "metadata": {},
   "outputs": [],
   "source": []
  },
  {
   "cell_type": "markdown",
   "id": "b7f73ac6",
   "metadata": {},
   "source": [
    "---\n",
    "\n",
    "# **Future Improvements**\n",
    "### - Collect More Data: Add customer feedback and competitor pricing to enhance the analysis.\n",
    "### - Use Predictive Tools: Apply forecasting techniques to predict sales trends and demands.\n",
    "### - Improve Visuals: Create clearer and more interactive charts for better understanding.\n",
    "### - Include Real-Time Data: Use live data for quicker and more accurate decisions.\n",
    "### - Optimize Processes: Focus on improving inventory management and personalized marketing.\n",
    "#### These steps can help make the analysis more detailed and actionable.\n",
    "\n",
    "---"
   ]
  }
 ],
 "metadata": {
  "kernelspec": {
   "display_name": "Python 3 (ipykernel)",
   "language": "python",
   "name": "python3"
  },
  "language_info": {
   "codemirror_mode": {
    "name": "ipython",
    "version": 3
   },
   "file_extension": ".py",
   "mimetype": "text/x-python",
   "name": "python",
   "nbconvert_exporter": "python",
   "pygments_lexer": "ipython3",
   "version": "3.13.1"
  }
 },
 "nbformat": 4,
 "nbformat_minor": 5
}
